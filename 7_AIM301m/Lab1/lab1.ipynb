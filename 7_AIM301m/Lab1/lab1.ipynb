{
 "cells": [
  {
   "cell_type": "code",
   "execution_count": 1,
   "metadata": {},
   "outputs": [
    {
     "name": "stdout",
     "output_type": "stream",
     "text": [
      "Requirement already satisfied: pandas in c:\\users\\admin\\miniconda3\\envs\\alphii-bot\\lib\\site-packages (2.2.2)\n",
      "Requirement already satisfied: numpy in c:\\users\\admin\\miniconda3\\envs\\alphii-bot\\lib\\site-packages (1.26.4)\n",
      "Collecting matplotlib\n",
      "  Downloading matplotlib-3.9.2-cp310-cp310-win_amd64.whl.metadata (11 kB)\n",
      "Collecting seaborn\n",
      "  Using cached seaborn-0.13.2-py3-none-any.whl.metadata (5.4 kB)\n",
      "Requirement already satisfied: python-dateutil>=2.8.2 in c:\\users\\admin\\miniconda3\\envs\\alphii-bot\\lib\\site-packages (from pandas) (2.9.0.post0)\n",
      "Requirement already satisfied: pytz>=2020.1 in c:\\users\\admin\\miniconda3\\envs\\alphii-bot\\lib\\site-packages (from pandas) (2024.1)\n",
      "Requirement already satisfied: tzdata>=2022.7 in c:\\users\\admin\\miniconda3\\envs\\alphii-bot\\lib\\site-packages (from pandas) (2024.1)\n",
      "Collecting contourpy>=1.0.1 (from matplotlib)\n",
      "  Downloading contourpy-1.3.0-cp310-cp310-win_amd64.whl.metadata (5.4 kB)\n",
      "Collecting cycler>=0.10 (from matplotlib)\n",
      "  Using cached cycler-0.12.1-py3-none-any.whl.metadata (3.8 kB)\n",
      "Collecting fonttools>=4.22.0 (from matplotlib)\n",
      "  Using cached fonttools-4.53.1-cp310-cp310-win_amd64.whl.metadata (165 kB)\n",
      "Collecting kiwisolver>=1.3.1 (from matplotlib)\n",
      "  Downloading kiwisolver-1.4.7-cp310-cp310-win_amd64.whl.metadata (6.4 kB)\n",
      "Requirement already satisfied: packaging>=20.0 in c:\\users\\admin\\miniconda3\\envs\\alphii-bot\\lib\\site-packages (from matplotlib) (24.1)\n",
      "Requirement already satisfied: pillow>=8 in c:\\users\\admin\\miniconda3\\envs\\alphii-bot\\lib\\site-packages (from matplotlib) (10.4.0)\n",
      "Collecting pyparsing>=2.3.1 (from matplotlib)\n",
      "  Downloading pyparsing-3.1.4-py3-none-any.whl.metadata (5.1 kB)\n",
      "Requirement already satisfied: six>=1.5 in c:\\users\\admin\\miniconda3\\envs\\alphii-bot\\lib\\site-packages (from python-dateutil>=2.8.2->pandas) (1.16.0)\n",
      "Downloading matplotlib-3.9.2-cp310-cp310-win_amd64.whl (7.8 MB)\n",
      "   ---------------------------------------- 0.0/7.8 MB ? eta -:--:--\n",
      "   ---------------------------------------- 0.0/7.8 MB 653.6 kB/s eta 0:00:12\n",
      "    --------------------------------------- 0.1/7.8 MB 1.4 MB/s eta 0:00:06\n",
      "   - -------------------------------------- 0.3/7.8 MB 2.3 MB/s eta 0:00:04\n",
      "   --- ------------------------------------ 0.7/7.8 MB 3.7 MB/s eta 0:00:02\n",
      "   ---- ----------------------------------- 1.0/7.8 MB 4.4 MB/s eta 0:00:02\n",
      "   ---- ----------------------------------- 1.0/7.8 MB 4.4 MB/s eta 0:00:02\n",
      "   ---- ----------------------------------- 1.0/7.8 MB 4.4 MB/s eta 0:00:02\n",
      "   ----- ---------------------------------- 1.1/7.8 MB 3.0 MB/s eta 0:00:03\n",
      "   ----- ---------------------------------- 1.1/7.8 MB 2.9 MB/s eta 0:00:03\n",
      "   ---------- ----------------------------- 2.0/7.8 MB 4.6 MB/s eta 0:00:02\n",
      "   ---------- ----------------------------- 2.0/7.8 MB 4.6 MB/s eta 0:00:02\n",
      "   ------------- -------------------------- 2.6/7.8 MB 4.7 MB/s eta 0:00:02\n",
      "   -------------- ------------------------- 2.8/7.8 MB 4.7 MB/s eta 0:00:02\n",
      "   ----------------- ---------------------- 3.4/7.8 MB 5.2 MB/s eta 0:00:01\n",
      "   ------------------ --------------------- 3.6/7.8 MB 5.3 MB/s eta 0:00:01\n",
      "   ------------------- -------------------- 3.8/7.8 MB 5.2 MB/s eta 0:00:01\n",
      "   ------------------- -------------------- 3.8/7.8 MB 5.0 MB/s eta 0:00:01\n",
      "   ------------------- -------------------- 3.8/7.8 MB 4.9 MB/s eta 0:00:01\n",
      "   -------------------- ------------------- 4.0/7.8 MB 4.5 MB/s eta 0:00:01\n",
      "   ---------------------- ----------------- 4.3/7.8 MB 4.9 MB/s eta 0:00:01\n",
      "   ---------------------- ----------------- 4.4/7.8 MB 4.5 MB/s eta 0:00:01\n",
      "   ----------------------- ---------------- 4.7/7.8 MB 4.6 MB/s eta 0:00:01\n",
      "   ------------------------- -------------- 4.9/7.8 MB 4.6 MB/s eta 0:00:01\n",
      "   -------------------------- ------------- 5.2/7.8 MB 4.7 MB/s eta 0:00:01\n",
      "   --------------------------- ------------ 5.3/7.8 MB 4.7 MB/s eta 0:00:01\n",
      "   ---------------------------- ----------- 5.5/7.8 MB 4.6 MB/s eta 0:00:01\n",
      "   ---------------------------- ----------- 5.5/7.8 MB 4.6 MB/s eta 0:00:01\n",
      "   ------------------------------ --------- 6.0/7.8 MB 4.7 MB/s eta 0:00:01\n",
      "   ------------------------------- -------- 6.1/7.8 MB 4.6 MB/s eta 0:00:01\n",
      "   ------------------------------- -------- 6.2/7.8 MB 4.5 MB/s eta 0:00:01\n",
      "   -------------------------------- ------- 6.3/7.8 MB 4.5 MB/s eta 0:00:01\n",
      "   --------------------------------- ------ 6.6/7.8 MB 4.5 MB/s eta 0:00:01\n",
      "   ---------------------------------- ----- 6.8/7.8 MB 4.5 MB/s eta 0:00:01\n",
      "   ----------------------------------- ---- 6.9/7.8 MB 4.4 MB/s eta 0:00:01\n",
      "   ----------------------------------- ---- 7.0/7.8 MB 4.4 MB/s eta 0:00:01\n",
      "   ----------------------------------- ---- 7.0/7.8 MB 4.4 MB/s eta 0:00:01\n",
      "   ------------------------------------ --- 7.1/7.8 MB 4.2 MB/s eta 0:00:01\n",
      "   ------------------------------------- -- 7.4/7.8 MB 4.2 MB/s eta 0:00:01\n",
      "   ---------------------------------------  7.7/7.8 MB 4.3 MB/s eta 0:00:01\n",
      "   ---------------------------------------- 7.8/7.8 MB 4.3 MB/s eta 0:00:00\n",
      "Using cached seaborn-0.13.2-py3-none-any.whl (294 kB)\n",
      "Downloading contourpy-1.3.0-cp310-cp310-win_amd64.whl (216 kB)\n",
      "   ---------------------------------------- 0.0/216.0 kB ? eta -:--:--\n",
      "   ---------------------------------------  215.0/216.0 kB 6.4 MB/s eta 0:00:01\n",
      "   ---------------------------------------- 216.0/216.0 kB 4.4 MB/s eta 0:00:00\n",
      "Using cached cycler-0.12.1-py3-none-any.whl (8.3 kB)\n",
      "Using cached fonttools-4.53.1-cp310-cp310-win_amd64.whl (2.2 MB)\n",
      "Downloading kiwisolver-1.4.7-cp310-cp310-win_amd64.whl (55 kB)\n",
      "   ---------------------------------------- 0.0/55.9 kB ? eta -:--:--\n",
      "   ---------------------------------------- 55.9/55.9 kB ? eta 0:00:00\n",
      "Downloading pyparsing-3.1.4-py3-none-any.whl (104 kB)\n",
      "   ---------------------------------------- 0.0/104.1 kB ? eta -:--:--\n",
      "   ---------------------------------------  102.4/104.1 kB 2.9 MB/s eta 0:00:01\n",
      "   ---------------------------------------- 104.1/104.1 kB 2.0 MB/s eta 0:00:00\n",
      "Installing collected packages: pyparsing, kiwisolver, fonttools, cycler, contourpy, matplotlib, seaborn\n",
      "Successfully installed contourpy-1.3.0 cycler-0.12.1 fonttools-4.53.1 kiwisolver-1.4.7 matplotlib-3.9.2 pyparsing-3.1.4 seaborn-0.13.2\n"
     ]
    }
   ],
   "source": [
    "!pip install pandas numpy matplotlib seaborn"
   ]
  },
  {
   "cell_type": "code",
   "execution_count": 2,
   "metadata": {},
   "outputs": [
    {
     "name": "stdout",
     "output_type": "stream",
     "text": [
      "Requirement already satisfied: matplotlib in c:\\users\\admin\\miniconda3\\envs\\alphii-bot\\lib\\site-packages (3.9.2)\n",
      "Requirement already satisfied: contourpy>=1.0.1 in c:\\users\\admin\\miniconda3\\envs\\alphii-bot\\lib\\site-packages (from matplotlib) (1.3.0)\n",
      "Requirement already satisfied: cycler>=0.10 in c:\\users\\admin\\miniconda3\\envs\\alphii-bot\\lib\\site-packages (from matplotlib) (0.12.1)\n",
      "Requirement already satisfied: fonttools>=4.22.0 in c:\\users\\admin\\miniconda3\\envs\\alphii-bot\\lib\\site-packages (from matplotlib) (4.53.1)\n",
      "Requirement already satisfied: kiwisolver>=1.3.1 in c:\\users\\admin\\miniconda3\\envs\\alphii-bot\\lib\\site-packages (from matplotlib) (1.4.7)\n",
      "Requirement already satisfied: numpy>=1.23 in c:\\users\\admin\\miniconda3\\envs\\alphii-bot\\lib\\site-packages (from matplotlib) (1.26.4)\n",
      "Requirement already satisfied: packaging>=20.0 in c:\\users\\admin\\miniconda3\\envs\\alphii-bot\\lib\\site-packages (from matplotlib) (24.1)\n",
      "Requirement already satisfied: pillow>=8 in c:\\users\\admin\\miniconda3\\envs\\alphii-bot\\lib\\site-packages (from matplotlib) (10.4.0)\n",
      "Requirement already satisfied: pyparsing>=2.3.1 in c:\\users\\admin\\miniconda3\\envs\\alphii-bot\\lib\\site-packages (from matplotlib) (3.1.4)\n",
      "Requirement already satisfied: python-dateutil>=2.7 in c:\\users\\admin\\miniconda3\\envs\\alphii-bot\\lib\\site-packages (from matplotlib) (2.9.0.post0)\n",
      "Requirement already satisfied: six>=1.5 in c:\\users\\admin\\miniconda3\\envs\\alphii-bot\\lib\\site-packages (from python-dateutil>=2.7->matplotlib) (1.16.0)\n"
     ]
    }
   ],
   "source": [
    "!pip install matplotlib"
   ]
  },
  {
   "cell_type": "code",
   "execution_count": 3,
   "metadata": {},
   "outputs": [],
   "source": [
    "# Import Library\n",
    "import pandas as pd\n",
    "import numpy as np\n",
    "import matplotlib.pyplot as plt\n",
    "%matplotlib inline\n",
    "import os\n",
    "import seaborn as sns\n",
    "sns.set()"
   ]
  },
  {
   "cell_type": "code",
   "execution_count": null,
   "metadata": {},
   "outputs": [],
   "source": []
  }
 ],
 "metadata": {
  "kernelspec": {
   "display_name": "alphii-bot",
   "language": "python",
   "name": "python3"
  },
  "language_info": {
   "codemirror_mode": {
    "name": "ipython",
    "version": 3
   },
   "file_extension": ".py",
   "mimetype": "text/x-python",
   "name": "python",
   "nbconvert_exporter": "python",
   "pygments_lexer": "ipython3",
   "version": "3.10.14"
  }
 },
 "nbformat": 4,
 "nbformat_minor": 2
}
